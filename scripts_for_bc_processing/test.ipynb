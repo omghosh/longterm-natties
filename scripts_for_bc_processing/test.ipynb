{
 "cells": [
  {
   "cell_type": "code",
   "execution_count": 2,
   "metadata": {},
   "outputs": [],
   "source": [
    "import numpy as np"
   ]
  },
  {
   "cell_type": "code",
   "execution_count": 3,
   "metadata": {},
   "outputs": [
    {
     "name": "stdout",
     "output_type": "stream",
     "text": [
      "sky_bc_1\tCTCGTGCTGGGTATGCCGGAC\n",
      "sky_bc_2\tTCAAAAGTACCGTATTAACAC\n",
      "sky_bc_3\tTACTTACAAGCAAAACCTATC\n",
      "sky_bc_4\tCGCGAGTACCTTTTATCGTTC\n",
      "sky_bc_5\tTCAGTTTACGCTGGTACGGTC\n",
      "sky_bc_6\tATGTCCCTCGGATGTTCTCAC\n",
      "sky_bc_7\tTTTCTTTGATGTTTGTAGCTC\n",
      "sky_bc_8\tGCCTGGTAACAGTGGTAACTC\n",
      "sky_bc_9\tCTATGTATGCGTTAGTCGAGC\n",
      "sky_bc_10\tTTGTTTATATTCCCACGAGTC\n",
      "sky_bc_11\tAAAATCTTTAATGGCCAGTAC\n",
      "sky_bc_12\tCCTAAGCCGGTCGAACGTAGC\n",
      "sky_bc_13\tAGCTAATGATCTTAAATTTAC\n",
      "sky_bc_14\tCATTACTGAATCATCTTATCC\n"
     ]
    }
   ],
   "source": [
    "# Prepare Reference Data\n",
    "sky_bc_list = ['CTCGTGCTGGGTATGCCGGAC', 'TCAAAAGTACCGTATTAACAC', 'TACTTACAAGCAAAACCTATC', \n",
    "               'CGCGAGTACCTTTTATCGTTC', 'TCAGTTTACGCTGGTACGGTC', 'ATGTCCCTCGGATGTTCTCAC', \n",
    "               'TTTCTTTGATGTTTGTAGCTC', 'GCCTGGTAACAGTGGTAACTC', 'CTATGTATGCGTTAGTCGAGC', \n",
    "               'TTGTTTATATTCCCACGAGTC', 'AAAATCTTTAATGGCCAGTAC', 'CCTAAGCCGGTCGAACGTAGC', \n",
    "               'AGCTAATGATCTTAAATTTAC', 'CATTACTGAATCATCTTATCC']\n",
    "\n",
    "for bc, label in zip(sky_bc_list, [f'sky_bc_{i+1}' for i in range(len(sky_bc_list))]):\n",
    "    print(f'{label}\\t{bc}')\n"
   ]
  },
  {
   "cell_type": "code",
   "execution_count": null,
   "metadata": {},
   "outputs": [],
   "source": []
  }
 ],
 "metadata": {
  "kernelspec": {
   "display_name": "base",
   "language": "python",
   "name": "python3"
  },
  "language_info": {
   "codemirror_mode": {
    "name": "ipython",
    "version": 3
   },
   "file_extension": ".py",
   "mimetype": "text/x-python",
   "name": "python",
   "nbconvert_exporter": "python",
   "pygments_lexer": "ipython3",
   "version": "3.8.18"
  },
  "orig_nbformat": 4
 },
 "nbformat": 4,
 "nbformat_minor": 2
}
